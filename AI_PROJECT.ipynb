{
  "nbformat": 4,
  "nbformat_minor": 0,
  "metadata": {
    "colab": {
      "provenance": []
    },
    "kernelspec": {
      "name": "python3",
      "display_name": "Python 3"
    },
    "language_info": {
      "name": "python"
    }
  },
  "cells": [
    {
      "cell_type": "markdown",
      "source": [
        "IMPORTING LIBRARIES\n"
      ],
      "metadata": {
        "id": "KxcOD6pkBn72"
      }
    },
    {
      "cell_type": "code",
      "source": [
        "import csv\n",
        "import math\n"
      ],
      "metadata": {
        "id": "qLdIDAhxCEcD"
      },
      "execution_count": 13,
      "outputs": []
    },
    {
      "cell_type": "markdown",
      "source": [
        "LOAD PRODUCTS FROM CSV"
      ],
      "metadata": {
        "id": "NyzyEa0IDC6t"
      }
    },
    {
      "cell_type": "code",
      "source": [
        "def load_products_from_csv(filename):\n",
        "    products = []\n",
        "    with open(filename, newline='', encoding='utf-8') as csvfile:\n",
        "        reader = csv.DictReader(csvfile)\n",
        "        for row in reader:\n",
        "            products.append([\n",
        "                int(row['id']),\n",
        "                row['name'],\n",
        "                row['category'],\n",
        "                float(row['price']),\n",
        "                float(row['rating'])\n",
        "            ])\n",
        "    return products"
      ],
      "metadata": {
        "id": "3Rv78lj3DHoa"
      },
      "execution_count": 14,
      "outputs": []
    },
    {
      "cell_type": "markdown",
      "source": [
        "NORMALIZE PRODUCTS"
      ],
      "metadata": {
        "id": "Kh3WflkXDPPz"
      }
    },
    {
      "cell_type": "code",
      "source": [
        "def normalize_products(products):\n",
        "    prices = [p[3] for p in products]\n",
        "    ratings = [p[4] for p in products]\n",
        "    min_price, max_price = min(prices), max(prices)\n",
        "    min_rating, max_rating = min(ratings), max(ratings)\n",
        "    normalized = [\n",
        "        [p[0], p[1], p[2],\n",
        "         (p[3] - min_price) / (max_price - min_price),\n",
        "         (p[4] - min_rating) / (max_rating - min_rating)]\n",
        "        for p in products\n",
        "    ]\n",
        "    return normalized, (min_price, max_price, min_rating, max_rating)\n",
        "\n",
        "def normalize_user_input(user_input, norm_params):\n",
        "    min_price, max_price, min_rating, max_rating = norm_params\n",
        "    return [\n",
        "        (user_input[0] - min_price) / (max_price - min_price),\n",
        "        (user_input[1] - min_rating) / (max_rating - min_rating)\n",
        "    ]"
      ],
      "metadata": {
        "id": "8kyuKcuEDS0i"
      },
      "execution_count": 15,
      "outputs": []
    },
    {
      "cell_type": "markdown",
      "source": [
        "EUCLIDEAN DISTANCE"
      ],
      "metadata": {
        "id": "l5v12F6iDbZZ"
      }
    },
    {
      "cell_type": "code",
      "source": [
        "def euclidean_distance(p1, p2):\n",
        "    return math.sqrt(sum((a - b)**2 for a, b in zip(p1, p2)))"
      ],
      "metadata": {
        "id": "y0Zdymk7_7an"
      },
      "execution_count": 4,
      "outputs": []
    },
    {
      "cell_type": "markdown",
      "source": [
        "WEIGHTED KNN"
      ],
      "metadata": {
        "id": "_MncpNr2Do3E"
      }
    },
    {
      "cell_type": "code",
      "source": [
        "def knn_weighted(products, user_input, k=3):\n",
        "    norm_data, norm_params = normalize_products(products)\n",
        "    norm_input = normalize_user_input(user_input, norm_params)\n",
        "    distances = []\n",
        "    for p in norm_data:\n",
        "        d = euclidean_distance([p[3], p[4]], norm_input)\n",
        "        distances.append((d, p[2]))\n",
        "    distances.sort()\n",
        "    votes = {}\n",
        "    for i in range(min(k, len(distances))):\n",
        "        dist, cat = distances[i]\n",
        "        weight = 1 / (dist + 1e-5)\n",
        "        votes[cat] = votes.get(cat, 0) + weight\n",
        "    return max(votes, key=votes.get)\n"
      ],
      "metadata": {
        "id": "HpSo3u0HAADw"
      },
      "execution_count": 5,
      "outputs": []
    },
    {
      "cell_type": "markdown",
      "source": [
        "NAIVE BAYES"
      ],
      "metadata": {
        "id": "EkVx_UIlDzTF"
      }
    },
    {
      "cell_type": "code",
      "source": [
        "def gaussian_pdf(x, mean, std):\n",
        "    if std == 0: return 0\n",
        "    exponent = math.exp(-((x - mean) ** 2) / (2 * std**2))\n",
        "    return (1 / (math.sqrt(2 * math.pi) * std)) * exponent\n",
        "\n",
        "def naive_bayes(products, user_input):\n",
        "    categories = {}\n",
        "    for p in products:\n",
        "        cat = p[2]\n",
        "        if cat not in categories:\n",
        "            categories[cat] = {'prices': [], 'ratings': []}\n",
        "        categories[cat]['prices'].append(p[3])\n",
        "        categories[cat]['ratings'].append(p[4])\n",
        "    probs = {}\n",
        "    for cat, vals in categories.items():\n",
        "        mean_price = sum(vals['prices']) / len(vals['prices'])\n",
        "        std_price = math.sqrt(sum((x - mean_price)**2 for x in vals['prices']) / len(vals['prices']))\n",
        "        mean_rating = sum(vals['ratings']) / len(vals['ratings'])\n",
        "        std_rating = math.sqrt(sum((x - mean_rating)**2 for x in vals['ratings']) / len(vals['ratings']))\n",
        "        p_price = gaussian_pdf(user_input[0], mean_price, std_price)\n",
        "        p_rating = gaussian_pdf(user_input[1], mean_rating, std_rating)\n",
        "        probs[cat] = p_price * p_rating\n",
        "    return max(probs, key=probs.get)"
      ],
      "metadata": {
        "id": "7e8sE6ptAEz6"
      },
      "execution_count": 16,
      "outputs": []
    },
    {
      "cell_type": "markdown",
      "source": [
        "BFS"
      ],
      "metadata": {
        "id": "gvTX4Z16D3ey"
      }
    },
    {
      "cell_type": "code",
      "source": [
        "def bfs_sorted(products, target_category, user_budget, sort_by=\"price\"):\n",
        "    matched = [p for p in products if p[2] == target_category]\n",
        "    if not matched:\n",
        "        return None\n",
        "    if sort_by == \"price\":\n",
        "        matched.sort(key=lambda p: abs(p[3] - user_budget))\n",
        "    elif sort_by == \"rating\":\n",
        "        matched.sort(key=lambda p: -p[4])\n",
        "    return matched"
      ],
      "metadata": {
        "id": "VaH4b2ciAUOq"
      },
      "execution_count": 7,
      "outputs": []
    },
    {
      "cell_type": "markdown",
      "source": [
        "MAIN FUNCTION"
      ],
      "metadata": {
        "id": "vtcairxFD8Q5"
      }
    },
    {
      "cell_type": "code",
      "source": [
        "def main():\n",
        "    filename = \"/content/product.csv\"\n",
        "    products = load_products_from_csv(filename)\n",
        "\n",
        "    print(\"== AI Virtual Shopping Assistant ==\")\n",
        "    budget = float(input(\"Enter your budget: \"))\n",
        "    rating = float(input(\"Enter your preferred rating: \"))\n",
        "    user_input = [budget, rating]\n",
        "\n",
        "    knn_cat = knn_weighted(products, user_input)\n",
        "    nb_cat = naive_bayes(products, user_input)\n",
        "\n",
        "    bfs_knn_products = bfs_sorted(products, knn_cat, budget)\n",
        "    bfs_nb_products = bfs_sorted(products, nb_cat, budget)\n",
        "\n",
        "    print(\"\\n=== PREDICTIONS ===\")\n",
        "    print(\"\\n1. [KNN Weighted] Category:\", knn_cat)\n",
        "    print(\"\\n2. [Naive Bayes] Category:\", nb_cat)\n",
        "\n",
        "\n",
        "    if bfs_knn_products:\n",
        "        print(f\"\\n3. [BFS Sorted using KNN] Top Products in '{knn_cat}':\")\n",
        "        for i, p in enumerate(bfs_knn_products[:3], 1):\n",
        "            print(f\"   {i}. {p[1]} - ₹{p[3]}, ⭐ {p[4]}\")\n",
        "    else:\n",
        "        print(\"\\n3. No matching products found in category.\")\n",
        "\n",
        "    if bfs_nb_products:\n",
        "        print(f\"\\n4. [BFS Sorted using NB] Top Products in '{nb_cat}':\")\n",
        "        for i, p in enumerate(bfs_nb_products[:3], 1):\n",
        "            print(f\"   {i}. {p[1]} - ₹{p[3]}, ⭐ {p[4]}\")\n",
        "    else:\n",
        "        print(\"\\n4. No matching products found in category.\")\n",
        "\n",
        "\n",
        "# === Run ===\n",
        "if __name__ == \"__main__\":\n",
        "    main()\n"
      ],
      "metadata": {
        "colab": {
          "base_uri": "https://localhost:8080/"
        },
        "id": "rwevmHcsAePN",
        "outputId": "ce6e9ec2-4f45-48fb-ed3f-e50a4bd2dd70"
      },
      "execution_count": 18,
      "outputs": [
        {
          "output_type": "stream",
          "name": "stdout",
          "text": [
            "== AI Virtual Shopping Assistant ==\n",
            "Enter your budget: 5000\n",
            "Enter your preferred rating: 4\n",
            "\n",
            "=== PREDICTIONS ===\n",
            "\n",
            "1. [KNN Weighted] Category: Headphones\n",
            "\n",
            "2. [Naive Bayes] Category: Smartphone\n",
            "\n",
            "3. [BFS Sorted using KNN] Top Products in 'Headphones':\n",
            "   1. Sennheiser HD 450BT - ₹5672.0, ⭐ 4.2\n",
            "   2. Boat Rockerz 550 - ₹8410.0, ⭐ 3.8\n",
            "   3. JBL Quantum 800 - ₹12496.0, ⭐ 4.5\n",
            "\n",
            "4. [BFS Sorted using NB] Top Products in 'Smartphone':\n",
            "   1. OnePlus Nord 2T - ₹4467.0, ⭐ 4.7\n",
            "   2. Redmi Note 11 - ₹5639.0, ⭐ 4.6\n",
            "   3. Realme GT - ₹7315.0, ⭐ 4.6\n"
          ]
        }
      ]
    }
  ]
}